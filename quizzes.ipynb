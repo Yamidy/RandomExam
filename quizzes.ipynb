{
 "cells": [
  {
   "cell_type": "markdown",
   "metadata": {},
   "source": [
    "# Quizzes diferentes"
   ]
  },
  {
   "cell_type": "markdown",
   "metadata": {},
   "source": [
    "Este programa bota un .txt con un texto de código latex para compilar y obtener diferentes quizzes. Cada quiz está hecho de la siguiente manera: La primera pregunta es una de las de la carpeta pregunta_1, la segunda pregunta es una de las de la carpeta pregunta_2,etc."
   ]
  },
  {
   "cell_type": "code",
   "execution_count": 68,
   "metadata": {},
   "outputs": [],
   "source": [
    "import random\n",
    "\n",
    "for i in [\"1\",\"2\",\"3\",\"4\",\"5\"]:\n",
    "    preambulo=open(\"preambulo.txt\",\"r\")\n",
    "    algo=open(\"filename_\"+i+\".txt\",\"w\")\n",
    "    algo.write(preambulo.read())\n",
    "    algo.close()\n",
    "    preambulo.close()\n",
    "    for j in [\"1\",\"2\"]:\n",
    "        z=random.randint(1,3)\n",
    "        x=str(z) \n",
    "        pregunta=open(\"pregunta_\"+j+\"/\"+j+\"_\"+x+\".txt\",\"r\")\n",
    "        algo=open(\"filename_\"+i+\".txt\",\"a\")\n",
    "        algo.write(\"\\n\"+pregunta.read())\n",
    "        algo.close()\n",
    "        pregunta.close()\n"
   ]
  },
  {
   "cell_type": "code",
   "execution_count": null,
   "metadata": {},
   "outputs": [],
   "source": []
  }
 ],
 "metadata": {
  "kernelspec": {
   "display_name": "Python 3",
   "language": "python",
   "name": "python3"
  },
  "language_info": {
   "codemirror_mode": {
    "name": "ipython",
    "version": 3
   },
   "file_extension": ".py",
   "mimetype": "text/x-python",
   "name": "python",
   "nbconvert_exporter": "python",
   "pygments_lexer": "ipython3",
   "version": "3.7.0"
  }
 },
 "nbformat": 4,
 "nbformat_minor": 2
}
